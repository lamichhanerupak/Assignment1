{
 "cells": [
  {
   "cell_type": "markdown",
   "id": "1f130092-5db5-44bc-83e9-d39335a28c2e",
   "metadata": {
    "jp-MarkdownHeadingCollapsed": true
   },
   "source": [
    "Create a list of your favorite movies and print it. Then, append a new movie to the list and\r\n",
    "print the updated list."
   ]
  },
  {
   "cell_type": "code",
   "execution_count": 1,
   "id": "02c0ad54-11c3-49f0-afe1-e60f7e60901b",
   "metadata": {},
   "outputs": [
    {
     "data": {
      "text/plain": [
       "['RRR', 'KGF', 'Hero', 'Pushpa']"
      ]
     },
     "execution_count": 1,
     "metadata": {},
     "output_type": "execute_result"
    }
   ],
   "source": [
    "list_movie=['RRR','KGF','Hero','Pushpa']\n",
    "list_movie"
   ]
  },
  {
   "cell_type": "code",
   "execution_count": 2,
   "id": "c9e714ea-9a10-4fc8-a46a-83d8ad84e445",
   "metadata": {},
   "outputs": [
    {
     "data": {
      "text/plain": [
       "['RRR', 'KGF', 'Hero', 'Pushpa', 'Mansara']"
      ]
     },
     "execution_count": 2,
     "metadata": {},
     "output_type": "execute_result"
    }
   ],
   "source": [
    "list_movie.append('Mansara')\n",
    "list_movie"
   ]
  },
  {
   "cell_type": "markdown",
   "id": "049bd75a-7b06-47af-815e-7c228c1bf28b",
   "metadata": {},
   "source": [
    "Create a list of integers from 1 to 10 and print it. Calculate the sum of all the numbers in\r\n",
    "the list and print the result."
   ]
  },
  {
   "cell_type": "code",
   "execution_count": 6,
   "id": "30d84b84-c977-449c-bc01-5e51ef4883eb",
   "metadata": {},
   "outputs": [
    {
     "data": {
      "text/plain": [
       "[1, 2, 3, 4, 5, 6, 7, 8, 9, 10]"
      ]
     },
     "execution_count": 6,
     "metadata": {},
     "output_type": "execute_result"
    }
   ],
   "source": [
    "list_integer=[1,2,3,4,5,6,7,8,9,10]\n",
    "list_integer"
   ]
  },
  {
   "cell_type": "code",
   "execution_count": 9,
   "id": "984bc8a7-5ed8-4cb0-bd22-7154af2e1e24",
   "metadata": {},
   "outputs": [
    {
     "data": {
      "text/plain": [
       "55"
      ]
     },
     "execution_count": 9,
     "metadata": {},
     "output_type": "execute_result"
    }
   ],
   "source": [
    "sum(list_integer)"
   ]
  },
  {
   "cell_type": "markdown",
   "id": "1ef63a67-3b4b-4ff6-b9af-240a7e12f6fd",
   "metadata": {},
   "source": [
    "### Create a list of mixed data types including strings, integers, and floats and print it. Remove\r\n",
    "the first element from the list and print the modified list."
   ]
  },
  {
   "cell_type": "code",
   "execution_count": 16,
   "id": "600f145d-6c7d-4a16-b8ce-e540d4162bbb",
   "metadata": {},
   "outputs": [
    {
     "data": {
      "text/plain": [
       "[1, 'Apple', 1.05, 'Sita']"
      ]
     },
     "execution_count": 16,
     "metadata": {},
     "output_type": "execute_result"
    }
   ],
   "source": [
    "list_m=[1,'Apple',1.05,'Sita']\n",
    "list_m"
   ]
  },
  {
   "cell_type": "code",
   "execution_count": 17,
   "id": "f57d73f3-7a6b-4de4-b9d0-67113cd464da",
   "metadata": {},
   "outputs": [
    {
     "data": {
      "text/plain": [
       "1"
      ]
     },
     "execution_count": 17,
     "metadata": {},
     "output_type": "execute_result"
    }
   ],
   "source": [
    "list_m.pop(0)"
   ]
  },
  {
   "cell_type": "markdown",
   "id": "2a89c236-5c0d-48ba-bcff-56b7116fa7ee",
   "metadata": {},
   "source": [
    "Create a tuple containing the names of the days of the week and print it. Access and print\n",
    "the name of the third day."
   ]
  },
  {
   "cell_type": "code",
   "execution_count": 18,
   "id": "6358c03b-ebe9-40f0-8020-f357eaf1599b",
   "metadata": {},
   "outputs": [
    {
     "data": {
      "text/plain": [
       "('Sunday', 'Monday', 'Tuesday', 'Wednesday', 'Thrusday', 'Friday', 'Saturday')"
      ]
     },
     "execution_count": 18,
     "metadata": {},
     "output_type": "execute_result"
    }
   ],
   "source": [
    "list_day=('Sunday','Monday','Tuesday','Wednesday','Thrusday','Friday','Saturday')\n",
    "list_day"
   ]
  },
  {
   "cell_type": "code",
   "execution_count": 20,
   "id": "6b38e9d1-2a9d-47ba-a727-63518f86fd30",
   "metadata": {},
   "outputs": [
    {
     "data": {
      "text/plain": [
       "'Tuesday'"
      ]
     },
     "execution_count": 20,
     "metadata": {},
     "output_type": "execute_result"
    }
   ],
   "source": [
    "list_day[2]"
   ]
  },
  {
   "cell_type": "markdown",
   "id": "db62fc18-b15a-4bae-a930-01d6328809ea",
   "metadata": {},
   "source": [
    " Create a tuple of your favorite colors and print it. Check if a certain color is present in the\n",
    "tuple and print the result."
   ]
  },
  {
   "cell_type": "code",
   "execution_count": 21,
   "id": "2d8c713a-3139-4ecb-9c63-b75dad7de120",
   "metadata": {},
   "outputs": [
    {
     "data": {
      "text/plain": [
       "('Red', 'Black', 'White', 'Green', 'Blue')"
      ]
     },
     "execution_count": 21,
     "metadata": {},
     "output_type": "execute_result"
    }
   ],
   "source": [
    "list_color=('Red','Black','White','Green','Blue')\n",
    "list_color"
   ]
  },
  {
   "cell_type": "code",
   "execution_count": 23,
   "id": "ecebb37c-39fb-486b-b638-96f82ef9684c",
   "metadata": {},
   "outputs": [
    {
     "name": "stdout",
     "output_type": "stream",
     "text": [
      "Yes\n"
     ]
    }
   ],
   "source": [
    "if 'Black' in list_color:\n",
    "    print('Yes')\n",
    "else:\n",
    "    print('No')"
   ]
  },
  {
   "cell_type": "markdown",
   "id": "42266322-7708-43f8-91bc-f0887176c3b5",
   "metadata": {},
   "source": [
    "Create a dictionary representing the information of a book with keys \"title\", \"author\", and\n",
    "\"year\" and print it. Update the year of the book and print the updated dictionary."
   ]
  },
  {
   "cell_type": "code",
   "execution_count": 24,
   "id": "92085616-0409-475e-84d6-81a3cdf2058c",
   "metadata": {},
   "outputs": [
    {
     "data": {
      "text/plain": [
       "{'title': 'DAA', 'author': 'Ram', 'Year': 2002}"
      ]
     },
     "execution_count": 24,
     "metadata": {},
     "output_type": "execute_result"
    }
   ],
   "source": [
    "book={'title':'DAA','author':'Ram','Year':2002}\n",
    "book"
   ]
  },
  {
   "cell_type": "code",
   "execution_count": 27,
   "id": "fda3b469-b727-4ffc-8d83-8bde0085c6de",
   "metadata": {},
   "outputs": [
    {
     "data": {
      "text/plain": [
       "{'title': 'DAA', 'author': 'Ram', 'Year': 2005, 'year': 2005}"
      ]
     },
     "execution_count": 27,
     "metadata": {},
     "output_type": "execute_result"
    }
   ],
   "source": [
    "book['Year']=2005\n",
    "book"
   ]
  },
  {
   "cell_type": "markdown",
   "id": "810c6431-6f13-43c3-9e05-da6ea2525e89",
   "metadata": {},
   "source": [
    "Create a dictionary containing the names of fruits as keys and their corresponding colors\n",
    "as values and print it. Add a new fruit-color pair to the dictionary and print the updated\n",
    "dictionary."
   ]
  },
  {
   "cell_type": "code",
   "execution_count": 33,
   "id": "8f94d9e4-d97e-4ef4-b5d6-7cee42d86ac8",
   "metadata": {},
   "outputs": [
    {
     "data": {
      "text/plain": [
       "{'Apple': 'Red', 'Mango': 'Yellow', 'Banana': 'Green'}"
      ]
     },
     "execution_count": 33,
     "metadata": {},
     "output_type": "execute_result"
    }
   ],
   "source": [
    "list_fruits={'Apple':'Red','Mango':'Yellow','Banana':'Green'}\n",
    "list_fruits"
   ]
  },
  {
   "cell_type": "code",
   "execution_count": 35,
   "id": "57f6c89f-088c-489b-989c-b1c2d7c7f52d",
   "metadata": {},
   "outputs": [
    {
     "data": {
      "text/plain": [
       "{'Apple': 'Red', 'Mango': 'Yellow', 'Banana': 'Green', 'orange': 'orange'}"
      ]
     },
     "execution_count": 35,
     "metadata": {},
     "output_type": "execute_result"
    }
   ],
   "source": [
    "list_fruits['orange']='orange'\n",
    "list_fruits"
   ]
  },
  {
   "cell_type": "markdown",
   "id": "936406c4-6647-4c9d-8636-a7587cb1a44f",
   "metadata": {},
   "source": [
    "Create a dictionary representing the population of different cities with keys as city names\n",
    "and values as population numbers and print it. Remove a city from the dictionary and print\n",
    "the modified dictionary."
   ]
  },
  {
   "cell_type": "code",
   "execution_count": 36,
   "id": "9731f970-d177-4ddf-a2f6-0540e2158a69",
   "metadata": {},
   "outputs": [
    {
     "data": {
      "text/plain": [
       "{'Kathmandu': 5898545,\n",
       " 'Bhaktapur': 354894,\n",
       " 'Lalitpur': 548795,\n",
       " 'Mustang': 45700}"
      ]
     },
     "execution_count": 36,
     "metadata": {},
     "output_type": "execute_result"
    }
   ],
   "source": [
    "list_population={'Kathmandu':5898545,'Bhaktapur':354894,'Lalitpur':548795,'Mustang':45700}\n",
    "list_population"
   ]
  },
  {
   "cell_type": "code",
   "execution_count": 37,
   "id": "09f85c86-84ef-4d2e-9431-d684f85462ce",
   "metadata": {},
   "outputs": [
    {
     "data": {
      "text/plain": [
       "{'Kathmandu': 5898545, 'Bhaktapur': 354894, 'Mustang': 45700}"
      ]
     },
     "execution_count": 37,
     "metadata": {},
     "output_type": "execute_result"
    }
   ],
   "source": [
    "del list_population['Lalitpur']\n",
    "list_population"
   ]
  }
 ],
 "metadata": {
  "kernelspec": {
   "display_name": "Python 3 (ipykernel)",
   "language": "python",
   "name": "python3"
  },
  "language_info": {
   "codemirror_mode": {
    "name": "ipython",
    "version": 3
   },
   "file_extension": ".py",
   "mimetype": "text/x-python",
   "name": "python",
   "nbconvert_exporter": "python",
   "pygments_lexer": "ipython3",
   "version": "3.11.7"
  }
 },
 "nbformat": 4,
 "nbformat_minor": 5
}
